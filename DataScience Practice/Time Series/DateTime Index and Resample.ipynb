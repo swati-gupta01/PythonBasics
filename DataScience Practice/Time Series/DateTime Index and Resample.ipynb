{
 "cells": [
  {
   "cell_type": "code",
   "execution_count": 1,
   "metadata": {},
   "outputs": [],
   "source": [
    "import pandas as pd"
   ]
  },
  {
   "cell_type": "code",
   "execution_count": 2,
   "metadata": {},
   "outputs": [],
   "source": [
    "df= pd.read_csv(\"AAPL.csv\",parse_dates = ['Date'],index_col='Date')"
   ]
  },
  {
   "cell_type": "code",
   "execution_count": 3,
   "metadata": {},
   "outputs": [
    {
     "data": {
      "text/html": [
       "<div>\n",
       "<style scoped>\n",
       "    .dataframe tbody tr th:only-of-type {\n",
       "        vertical-align: middle;\n",
       "    }\n",
       "\n",
       "    .dataframe tbody tr th {\n",
       "        vertical-align: top;\n",
       "    }\n",
       "\n",
       "    .dataframe thead th {\n",
       "        text-align: right;\n",
       "    }\n",
       "</style>\n",
       "<table border=\"1\" class=\"dataframe\">\n",
       "  <thead>\n",
       "    <tr style=\"text-align: right;\">\n",
       "      <th></th>\n",
       "      <th>Open</th>\n",
       "      <th>High</th>\n",
       "      <th>Low</th>\n",
       "      <th>Close</th>\n",
       "      <th>Adj Close</th>\n",
       "      <th>Volume</th>\n",
       "    </tr>\n",
       "    <tr>\n",
       "      <th>Date</th>\n",
       "      <th></th>\n",
       "      <th></th>\n",
       "      <th></th>\n",
       "      <th></th>\n",
       "      <th></th>\n",
       "      <th></th>\n",
       "    </tr>\n",
       "  </thead>\n",
       "  <tbody>\n",
       "    <tr>\n",
       "      <th>2018-08-21</th>\n",
       "      <td>216.800003</td>\n",
       "      <td>217.190002</td>\n",
       "      <td>214.029999</td>\n",
       "      <td>215.039993</td>\n",
       "      <td>215.039993</td>\n",
       "      <td>26159800</td>\n",
       "    </tr>\n",
       "    <tr>\n",
       "      <th>2018-08-22</th>\n",
       "      <td>214.100006</td>\n",
       "      <td>216.360001</td>\n",
       "      <td>213.839996</td>\n",
       "      <td>215.050003</td>\n",
       "      <td>215.050003</td>\n",
       "      <td>19018100</td>\n",
       "    </tr>\n",
       "    <tr>\n",
       "      <th>2018-08-23</th>\n",
       "      <td>214.649994</td>\n",
       "      <td>217.050003</td>\n",
       "      <td>214.600006</td>\n",
       "      <td>215.490005</td>\n",
       "      <td>215.490005</td>\n",
       "      <td>18883200</td>\n",
       "    </tr>\n",
       "    <tr>\n",
       "      <th>2018-08-24</th>\n",
       "      <td>216.600006</td>\n",
       "      <td>216.899994</td>\n",
       "      <td>215.110001</td>\n",
       "      <td>216.160004</td>\n",
       "      <td>216.160004</td>\n",
       "      <td>18476400</td>\n",
       "    </tr>\n",
       "    <tr>\n",
       "      <th>2018-08-27</th>\n",
       "      <td>217.149994</td>\n",
       "      <td>218.740005</td>\n",
       "      <td>216.330002</td>\n",
       "      <td>217.940002</td>\n",
       "      <td>217.940002</td>\n",
       "      <td>20525100</td>\n",
       "    </tr>\n",
       "    <tr>\n",
       "      <th>2018-08-28</th>\n",
       "      <td>219.009995</td>\n",
       "      <td>220.539993</td>\n",
       "      <td>218.919998</td>\n",
       "      <td>219.699997</td>\n",
       "      <td>219.699997</td>\n",
       "      <td>22776800</td>\n",
       "    </tr>\n",
       "    <tr>\n",
       "      <th>2018-08-29</th>\n",
       "      <td>220.149994</td>\n",
       "      <td>223.490005</td>\n",
       "      <td>219.410004</td>\n",
       "      <td>222.979996</td>\n",
       "      <td>222.979996</td>\n",
       "      <td>27254800</td>\n",
       "    </tr>\n",
       "    <tr>\n",
       "      <th>2018-08-30</th>\n",
       "      <td>223.250000</td>\n",
       "      <td>228.259995</td>\n",
       "      <td>222.399994</td>\n",
       "      <td>225.029999</td>\n",
       "      <td>225.029999</td>\n",
       "      <td>48793800</td>\n",
       "    </tr>\n",
       "    <tr>\n",
       "      <th>2018-08-31</th>\n",
       "      <td>226.509995</td>\n",
       "      <td>228.869995</td>\n",
       "      <td>226.000000</td>\n",
       "      <td>227.630005</td>\n",
       "      <td>227.630005</td>\n",
       "      <td>43340100</td>\n",
       "    </tr>\n",
       "    <tr>\n",
       "      <th>2018-09-04</th>\n",
       "      <td>228.410004</td>\n",
       "      <td>229.179993</td>\n",
       "      <td>226.630005</td>\n",
       "      <td>228.360001</td>\n",
       "      <td>228.360001</td>\n",
       "      <td>27390100</td>\n",
       "    </tr>\n",
       "    <tr>\n",
       "      <th>2018-09-05</th>\n",
       "      <td>228.990005</td>\n",
       "      <td>229.669998</td>\n",
       "      <td>225.100006</td>\n",
       "      <td>226.869995</td>\n",
       "      <td>226.869995</td>\n",
       "      <td>33333000</td>\n",
       "    </tr>\n",
       "    <tr>\n",
       "      <th>2018-09-06</th>\n",
       "      <td>226.229996</td>\n",
       "      <td>227.350006</td>\n",
       "      <td>221.300003</td>\n",
       "      <td>223.100006</td>\n",
       "      <td>223.100006</td>\n",
       "      <td>34290000</td>\n",
       "    </tr>\n",
       "    <tr>\n",
       "      <th>2018-09-07</th>\n",
       "      <td>221.850006</td>\n",
       "      <td>225.369995</td>\n",
       "      <td>220.710007</td>\n",
       "      <td>221.300003</td>\n",
       "      <td>221.300003</td>\n",
       "      <td>37619800</td>\n",
       "    </tr>\n",
       "    <tr>\n",
       "      <th>2018-09-10</th>\n",
       "      <td>220.949997</td>\n",
       "      <td>221.850006</td>\n",
       "      <td>216.470001</td>\n",
       "      <td>218.330002</td>\n",
       "      <td>218.330002</td>\n",
       "      <td>39516500</td>\n",
       "    </tr>\n",
       "    <tr>\n",
       "      <th>2018-09-11</th>\n",
       "      <td>218.009995</td>\n",
       "      <td>224.300003</td>\n",
       "      <td>216.559998</td>\n",
       "      <td>223.850006</td>\n",
       "      <td>223.850006</td>\n",
       "      <td>35749000</td>\n",
       "    </tr>\n",
       "    <tr>\n",
       "      <th>2018-09-12</th>\n",
       "      <td>224.940002</td>\n",
       "      <td>225.000000</td>\n",
       "      <td>219.839996</td>\n",
       "      <td>221.070007</td>\n",
       "      <td>221.070007</td>\n",
       "      <td>49278700</td>\n",
       "    </tr>\n",
       "    <tr>\n",
       "      <th>2018-09-13</th>\n",
       "      <td>223.520004</td>\n",
       "      <td>228.350006</td>\n",
       "      <td>222.570007</td>\n",
       "      <td>226.410004</td>\n",
       "      <td>226.410004</td>\n",
       "      <td>41706400</td>\n",
       "    </tr>\n",
       "    <tr>\n",
       "      <th>2018-09-14</th>\n",
       "      <td>225.750000</td>\n",
       "      <td>226.839996</td>\n",
       "      <td>222.520004</td>\n",
       "      <td>223.839996</td>\n",
       "      <td>223.839996</td>\n",
       "      <td>31999300</td>\n",
       "    </tr>\n",
       "    <tr>\n",
       "      <th>2018-09-17</th>\n",
       "      <td>222.149994</td>\n",
       "      <td>222.949997</td>\n",
       "      <td>217.270004</td>\n",
       "      <td>217.880005</td>\n",
       "      <td>217.880005</td>\n",
       "      <td>37195100</td>\n",
       "    </tr>\n",
       "    <tr>\n",
       "      <th>2018-09-18</th>\n",
       "      <td>217.789993</td>\n",
       "      <td>221.850006</td>\n",
       "      <td>217.119995</td>\n",
       "      <td>218.240005</td>\n",
       "      <td>218.240005</td>\n",
       "      <td>31571700</td>\n",
       "    </tr>\n",
       "    <tr>\n",
       "      <th>2018-09-19</th>\n",
       "      <td>218.500000</td>\n",
       "      <td>219.619995</td>\n",
       "      <td>215.300003</td>\n",
       "      <td>218.369995</td>\n",
       "      <td>218.369995</td>\n",
       "      <td>27123800</td>\n",
       "    </tr>\n",
       "    <tr>\n",
       "      <th>2018-09-20</th>\n",
       "      <td>220.240005</td>\n",
       "      <td>222.279999</td>\n",
       "      <td>219.149994</td>\n",
       "      <td>220.029999</td>\n",
       "      <td>220.029999</td>\n",
       "      <td>26460800</td>\n",
       "    </tr>\n",
       "  </tbody>\n",
       "</table>\n",
       "</div>"
      ],
      "text/plain": [
       "                  Open        High         Low       Close   Adj Close  \\\n",
       "Date                                                                     \n",
       "2018-08-21  216.800003  217.190002  214.029999  215.039993  215.039993   \n",
       "2018-08-22  214.100006  216.360001  213.839996  215.050003  215.050003   \n",
       "2018-08-23  214.649994  217.050003  214.600006  215.490005  215.490005   \n",
       "2018-08-24  216.600006  216.899994  215.110001  216.160004  216.160004   \n",
       "2018-08-27  217.149994  218.740005  216.330002  217.940002  217.940002   \n",
       "2018-08-28  219.009995  220.539993  218.919998  219.699997  219.699997   \n",
       "2018-08-29  220.149994  223.490005  219.410004  222.979996  222.979996   \n",
       "2018-08-30  223.250000  228.259995  222.399994  225.029999  225.029999   \n",
       "2018-08-31  226.509995  228.869995  226.000000  227.630005  227.630005   \n",
       "2018-09-04  228.410004  229.179993  226.630005  228.360001  228.360001   \n",
       "2018-09-05  228.990005  229.669998  225.100006  226.869995  226.869995   \n",
       "2018-09-06  226.229996  227.350006  221.300003  223.100006  223.100006   \n",
       "2018-09-07  221.850006  225.369995  220.710007  221.300003  221.300003   \n",
       "2018-09-10  220.949997  221.850006  216.470001  218.330002  218.330002   \n",
       "2018-09-11  218.009995  224.300003  216.559998  223.850006  223.850006   \n",
       "2018-09-12  224.940002  225.000000  219.839996  221.070007  221.070007   \n",
       "2018-09-13  223.520004  228.350006  222.570007  226.410004  226.410004   \n",
       "2018-09-14  225.750000  226.839996  222.520004  223.839996  223.839996   \n",
       "2018-09-17  222.149994  222.949997  217.270004  217.880005  217.880005   \n",
       "2018-09-18  217.789993  221.850006  217.119995  218.240005  218.240005   \n",
       "2018-09-19  218.500000  219.619995  215.300003  218.369995  218.369995   \n",
       "2018-09-20  220.240005  222.279999  219.149994  220.029999  220.029999   \n",
       "\n",
       "              Volume  \n",
       "Date                  \n",
       "2018-08-21  26159800  \n",
       "2018-08-22  19018100  \n",
       "2018-08-23  18883200  \n",
       "2018-08-24  18476400  \n",
       "2018-08-27  20525100  \n",
       "2018-08-28  22776800  \n",
       "2018-08-29  27254800  \n",
       "2018-08-30  48793800  \n",
       "2018-08-31  43340100  \n",
       "2018-09-04  27390100  \n",
       "2018-09-05  33333000  \n",
       "2018-09-06  34290000  \n",
       "2018-09-07  37619800  \n",
       "2018-09-10  39516500  \n",
       "2018-09-11  35749000  \n",
       "2018-09-12  49278700  \n",
       "2018-09-13  41706400  \n",
       "2018-09-14  31999300  \n",
       "2018-09-17  37195100  \n",
       "2018-09-18  31571700  \n",
       "2018-09-19  27123800  \n",
       "2018-09-20  26460800  "
      ]
     },
     "execution_count": 3,
     "metadata": {},
     "output_type": "execute_result"
    }
   ],
   "source": [
    "df['2018-08':'2018-09']\n"
   ]
  },
  {
   "cell_type": "code",
   "execution_count": 4,
   "metadata": {},
   "outputs": [
    {
     "data": {
      "text/plain": [
       "221.0304558181818"
      ]
     },
     "execution_count": 4,
     "metadata": {},
     "output_type": "execute_result"
    }
   ],
   "source": [
    "df.Close.mean()"
   ]
  },
  {
   "cell_type": "code",
   "execution_count": 5,
   "metadata": {},
   "outputs": [
    {
     "data": {
      "text/plain": [
       "<matplotlib.axes._subplots.AxesSubplot at 0x1ebf02f77f0>"
      ]
     },
     "execution_count": 5,
     "metadata": {},
     "output_type": "execute_result"
    },
    {
     "data": {
      "image/png": "[encoded data removed]",
      "text/plain": [
       "<matplotlib.figure.Figure at 0x1ebefa1ccc0>"
      ]
     },
     "metadata": {},
     "output_type": "display_data"
    }
   ],
   "source": [
    "%matplotlib inline\n",
    "df.Close.resample('M').mean().plot()"
   ]
  },
  {
   "cell_type": "code",
   "execution_count": 6,
   "metadata": {},
   "outputs": [
    {
     "data": {
      "text/plain": [
       "<matplotlib.axes._subplots.AxesSubplot at 0x1ebf041f588>"
      ]
     },
     "execution_count": 6,
     "metadata": {},
     "output_type": "execute_result"
    },
    {
     "data": {
      "image/png": "[encoded data removed]",
      "text/plain": [
       "<matplotlib.figure.Figure at 0x1ebf026b278>"
      ]
     },
     "metadata": {},
     "output_type": "display_data"
    }
   ],
   "source": [
    "df.Close.plot()"
   ]
  },
  {
   "cell_type": "code",
   "execution_count": 7,
   "metadata": {},
   "outputs": [
    {
     "data": {
      "text/plain": [
       "<matplotlib.axes._subplots.AxesSubplot at 0x1ebf04aa2b0>"
      ]
     },
     "execution_count": 7,
     "metadata": {},
     "output_type": "execute_result"
    },
    {
     "data": {
      "image/png": "[encoded data removed]",
      "text/plain": [
       "<matplotlib.figure.Figure at 0x1ebf042bef0>"
      ]
     },
     "metadata": {},
     "output_type": "display_data"
    }
   ],
   "source": [
    "df.Close.resample('M').mean().plot(kind='bar')"
   ]
  },
  {
   "cell_type": "code",
   "execution_count": null,
   "metadata": {},
   "outputs": [],
   "source": []
  }
 ],
 "metadata": {
  "kernelspec": {
   "display_name": "Python 3",
   "language": "python",
   "name": "python3"
  },
  "language_info": {
   "codemirror_mode": {
    "name": "ipython",
    "version": 3
   },
   "file_extension": ".py",
   "mimetype": "text/x-python",
   "name": "python",
   "nbconvert_exporter": "python",
   "pygments_lexer": "ipython3",
   "version": "3.6.4"
  }
 },
 "nbformat": 4,
 "nbformat_minor": 2
}
