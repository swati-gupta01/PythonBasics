{
 "cells": [
  {
   "cell_type": "code",
   "execution_count": 48,
   "metadata": {},
   "outputs": [],
   "source": [
    "import numpy as np\n",
    "import pandas as pd\n",
    "%matplotlib inline\n",
    "import matplotlib.pyplot as plt\n",
    "import seaborn"
   ]
  },
  {
   "cell_type": "code",
   "execution_count": 53,
   "metadata": {},
   "outputs": [],
   "source": [
    "#reading CSV data from GIT HUB\n",
    "df = pd.read_csv('https://raw.githubusercontent.com/jakevdp/PythonDataScienceHandbook/master/notebooks/data/Seattle2014.csv')['PRCP']"
   ]
  },
  {
   "cell_type": "code",
   "execution_count": 57,
   "metadata": {},
   "outputs": [
    {
     "data": {
      "text/plain": [
       "(365,)"
      ]
     },
     "execution_count": 57,
     "metadata": {},
     "output_type": "execute_result"
    }
   ],
   "source": [
    "inches = df / 254  # 1/10mm -> inches\n",
    "inches.shape"
   ]
  },
  {
   "cell_type": "code",
   "execution_count": 59,
   "metadata": {},
   "outputs": [
    {
     "data": {
      "text/plain": [
       "0      0.000000\n",
       "1      0.161417\n",
       "2      0.059055\n",
       "3      0.000000\n",
       "4      0.000000\n",
       "5      0.011811\n",
       "6      0.480315\n",
       "7      0.381890\n",
       "8      0.228346\n",
       "9      0.169291\n",
       "10     0.838583\n",
       "11     0.059055\n",
       "12     0.000000\n",
       "13     0.000000\n",
       "14     0.000000\n",
       "15     0.000000\n",
       "16     0.000000\n",
       "17     0.000000\n",
       "18     0.000000\n",
       "19     0.000000\n",
       "20     0.000000\n",
       "21     0.019685\n",
       "22     0.000000\n",
       "23     0.000000\n",
       "24     0.000000\n",
       "25     0.000000\n",
       "26     0.000000\n",
       "27     0.350394\n",
       "28     0.850394\n",
       "29     0.000000\n",
       "         ...   \n",
       "335    0.000000\n",
       "336    0.000000\n",
       "337    0.031496\n",
       "338    0.118110\n",
       "339    0.291339\n",
       "340    0.000000\n",
       "341    0.358268\n",
       "342    0.389764\n",
       "343    0.511811\n",
       "344    0.271654\n",
       "345    0.000000\n",
       "346    0.000000\n",
       "347    0.000000\n",
       "348    0.000000\n",
       "349    0.000000\n",
       "350    0.110236\n",
       "351    0.511811\n",
       "352    0.118110\n",
       "353    0.771654\n",
       "354    0.000000\n",
       "355    0.000000\n",
       "356    0.811024\n",
       "357    0.208661\n",
       "358    0.000000\n",
       "359    0.000000\n",
       "360    0.129921\n",
       "361    0.161417\n",
       "362    0.000000\n",
       "363    0.000000\n",
       "364    0.000000\n",
       "Name: PRCP, Length: 365, dtype: float64"
      ]
     },
     "execution_count": 59,
     "metadata": {},
     "output_type": "execute_result"
    }
   ],
   "source": [
    "inches"
   ]
  },
  {
   "cell_type": "code",
   "execution_count": 64,
   "metadata": {},
   "outputs": [
    {
     "data": {
      "image/png": "[encoded data removed]",
      "text/plain": [
       "<matplotlib.figure.Figure at 0x1390306ee10>"
      ]
     },
     "metadata": {},
     "output_type": "display_data"
    }
   ],
   "source": [
    "plt.hist(inches,40);"
   ]
  },
  {
   "cell_type": "code",
   "execution_count": 73,
   "metadata": {},
   "outputs": [
    {
     "name": "stdout",
     "output_type": "stream",
     "text": [
      "Median precip on rainy days in 2014 (inches):    0.19488188976377951\n",
      "Median precip on summer days in 2014 (inches):   0.0\n",
      "Maximum precip on summer days in 2014 (inches):  0.8503937007874016\n",
      "Median precip on non-summer rainy days (inches): 0.20078740157480315\n"
     ]
    }
   ],
   "source": [
    "# construct a mask of all rainy days\n",
    "rainy = (inches > 0)\n",
    "\n",
    "# construct a mask of all summer days (June 21st is the 172nd day)\n",
    "days = np.arange(365)\n",
    "summer = (days > 172) & (days < 262)\n",
    "\n",
    "print(\"Median precip on rainy days in 2014 (inches):   \",\n",
    "      np.median(inches[rainy]))\n",
    "print(\"Median precip on summer days in 2014 (inches):  \",\n",
    "      np.median(inches[summer]))\n",
    "print(\"Maximum precip on summer days in 2014 (inches): \",\n",
    "      np.max(inches[summer]))\n",
    "print(\"Median precip on non-summer rainy days (inches):\",\n",
    "      np.median(inches[rainy & ~summer]))"
   ]
  },
  {
   "cell_type": "code",
   "execution_count": null,
   "metadata": {},
   "outputs": [],
   "source": []
  }
 ],
 "metadata": {
  "kernelspec": {
   "display_name": "Python 3",
   "language": "python",
   "name": "python3"
  },
  "language_info": {
   "codemirror_mode": {
    "name": "ipython",
    "version": 3
   },
   "file_extension": ".py",
   "mimetype": "text/x-python",
   "name": "python",
   "nbconvert_exporter": "python",
   "pygments_lexer": "ipython3",
   "version": "3.6.4"
  }
 },
 "nbformat": 4,
 "nbformat_minor": 2
}
